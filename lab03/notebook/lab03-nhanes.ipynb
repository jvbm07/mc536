{
 "cells": [
  {
   "cell_type": "markdown",
   "metadata": {},
   "source": [
    "# National Health and Nutrition Examination Survey (NHANES)\n",
    "[https://wwwn.cdc.gov/nchs/nhanes/](https://wwwn.cdc.gov/nchs/nhanes/)\n",
    "\n",
    "Este laboratório usará dados extraídos do NHANES.\n",
    "\n",
    "## NHANES datasets from 2013-2014\n",
    "\n",
    "Foram extraídos dados do [NHANES 2013-2014](https://wwwn.cdc.gov/nchs/nhanes/continuousnhanes/default.aspx?BeginYear=2013).\n",
    "\n",
    "Os dados estão disponíveis em arquivos CSV no diretório `/data/nhanes`. Lá está disponível a documentação do esquema dos arquivos."
   ]
  },
  {
   "cell_type": "markdown",
   "metadata": {},
   "source": [
    "# Tarefa 1 - Esquema Relacional\n",
    "\n",
    "Analise os arquivos CSV que estão no diretório `/data/nhanes` e escreva um esquema relacional referente às tabelas, suas chaves primárias e estrangeiras (não é SQL ainda). Coloque a chave primária com dois underlines antes e dois depois:\n",
    "\n",
    "\\__teste\\__"
   ]
  },
  {
   "cell_type": "markdown",
   "metadata": {},
   "source": [
    "demographic-person(__id__, gender, age)\n",
    "medications-drug(__code__, name)\n",
    "medications-use(__person_id__, __drug_code__, days_use)"
   ]
  },
  {
   "cell_type": "markdown",
   "metadata": {},
   "source": [
    "## Criação das Tabelas em SQL e Importação de Dados\n",
    "\n",
    "Considere o seguinte exemplo em que é criada uma tabela em SQL e importado dados do arquivo CSV `demographic-person.csv`."
   ]
  },
  {
   "cell_type": "code",
   "execution_count": 1,
   "metadata": {},
   "outputs": [],
   "source": [
    "%defaultDatasource jdbc:h2:mem:db"
   ]
  },
  {
   "cell_type": "code",
   "execution_count": 2,
   "metadata": {},
   "outputs": [],
   "source": [
    "CREATE TABLE Pessoa (\n",
    "  Id VARCHAR(5) NOT NULL,\n",
    "  Gender INTEGER,\n",
    "  Age INTEGER,\n",
    "  PRIMARY KEY(Id)\n",
    ") AS SELECT\n",
    "    id,\n",
    "    gender,\n",
    "    age\n",
    "FROM CSVREAD('../../../data/nhanes/demographic-person.csv');"
   ]
  },
  {
   "cell_type": "code",
   "execution_count": 3,
   "metadata": {},
   "outputs": [
    {
     "data": {
      "application/vnd.jupyter.widget-view+json": {
       "model_id": "37b8b796-dea2-4e1b-86d5-c4fa799321e5",
       "version_major": 2,
       "version_minor": 0
      },
      "method": "display_data"
     },
     "metadata": {},
     "output_type": "display_data"
    }
   ],
   "source": [
    "SELECT * FROM Pessoa;"
   ]
  },
  {
   "cell_type": "markdown",
   "metadata": {},
   "source": [
    "# Tarefa 2 - Criação das Tabelas em SQL e Importação de Dados\n",
    "\n",
    "Escreva instruções SQL para montar as duas tabelas restante, conforme definido no esquema relacional da **Tarefa 1**.\n",
    "\n",
    "**Importante:** não defina chave primária para a tabela de uso de medicamento.\n",
    "\n",
    "Durante a criação das tabelas, realize a importação dos dados do arquivo CSV nas tabelas criadas, conforme exemplo anterior."
   ]
  },
  {
   "cell_type": "code",
   "execution_count": 4,
   "metadata": {},
   "outputs": [],
   "source": [
    "CREATE TABLE Medicamento (\n",
    "  Code VARCHAR(6) NOT NULL,\n",
    "  Name VARCHAR(80),\n",
    "  \n",
    "  PRIMARY KEY(Code)\n",
    ") AS SELECT\n",
    "    code,\n",
    "    name\n",
    "FROM CSVREAD('../../../data/nhanes/medications-drug.csv');"
   ]
  },
  {
   "cell_type": "code",
   "execution_count": 5,
   "metadata": {},
   "outputs": [],
   "source": [
    "CREATE TABLE Uso (\n",
    "  Id VARCHAR(5) NOT NULL,\n",
    "  Code VARCHAR(80) NOT NULL,\n",
    "  Use INTEGER,\n",
    "    \n",
    "  FOREIGN KEY(Id)\n",
    "    REFERENCES Pessoa(Id)\n",
    "    ON DELETE NO ACTION\n",
    "    ON UPDATE NO ACTION,\n",
    "    \n",
    "  FOREIGN KEY(Code)\n",
    "    REFERENCES Medicamento(Code)\n",
    "    ON DELETE NO ACTION\n",
    "    ON UPDATE NO ACTION,\n",
    ") AS SELECT\n",
    "    person_id,\n",
    "    drug_code,\n",
    "    days_use\n",
    "FROM CSVREAD('../../../data/nhanes/medications-use.csv');"
   ]
  },
  {
   "cell_type": "markdown",
   "metadata": {},
   "source": [
    "# Tarefa 3 - Consultas Simples\n",
    "\n",
    "Execute as consultas a seguir."
   ]
  },
  {
   "cell_type": "markdown",
   "metadata": {},
   "source": [
    "a) Liste pessoas com idade acima de 60"
   ]
  },
  {
   "cell_type": "code",
   "execution_count": 7,
   "metadata": {},
   "outputs": [
    {
     "data": {
      "application/vnd.jupyter.widget-view+json": {
       "model_id": "e2bb5de5-b1b7-4278-8413-458b91e509ee",
       "version_major": 2,
       "version_minor": 0
      },
      "method": "display_data"
     },
     "metadata": {},
     "output_type": "display_data"
    }
   ],
   "source": [
    "SELECT id FROM Pessoa WHERE age > 60"
   ]
  },
  {
   "cell_type": "markdown",
   "metadata": {},
   "source": [
    "b) Liste as idades das pessoas cadastradas (sem repetições)"
   ]
  },
  {
   "cell_type": "code",
   "execution_count": 8,
   "metadata": {},
   "outputs": [
    {
     "data": {
      "application/vnd.jupyter.widget-view+json": {
       "model_id": "4acf3c98-7ec6-4554-a2e3-71c18d0cce03",
       "version_major": 2,
       "version_minor": 0
      },
      "method": "display_data"
     },
     "metadata": {},
     "output_type": "display_data"
    }
   ],
   "source": [
    "SELECT DISTINCT age FROM Pessoa"
   ]
  },
  {
   "cell_type": "markdown",
   "metadata": {},
   "source": [
    "c) Liste código das pessoas, idade, código dos medicamentos que usaram e dias de uso"
   ]
  },
  {
   "cell_type": "code",
   "execution_count": 17,
   "metadata": {},
   "outputs": [
    {
     "data": {
      "application/vnd.jupyter.widget-view+json": {
       "model_id": "a5b4ebb1-0a53-4bed-8fc5-b01cf0a158a3",
       "version_major": 2,
       "version_minor": 0
      },
      "method": "display_data"
     },
     "metadata": {},
     "output_type": "display_data"
    }
   ],
   "source": [
    "SELECT P1.id, P1.age, U1.Code, U1.Use FROM Pessoa P1, Uso U1\n",
    "WHERE P1.id = U1.id"
   ]
  },
  {
   "cell_type": "markdown",
   "metadata": {},
   "source": [
    "d) Liste código das Pessoas, idade, nome dos medicamentos que usaram e quantos dias de uso"
   ]
  },
  {
   "cell_type": "code",
   "execution_count": 18,
   "metadata": {},
   "outputs": [
    {
     "data": {
      "application/vnd.jupyter.widget-view+json": {
       "model_id": "ba9ed7f8-e69d-418f-a6c7-c02e43195fac",
       "version_major": 2,
       "version_minor": 0
      },
      "method": "display_data"
     },
     "metadata": {},
     "output_type": "display_data"
    }
   ],
   "source": [
    "SELECT P1.id, P1.age, M1.name, U1.use\n",
    "FROM Pessoa P1, Medicamento M1, Uso U1\n",
    "WHERE P1.id = U1.id AND M1.code = U1.code"
   ]
  },
  {
   "cell_type": "markdown",
   "metadata": {},
   "source": [
    "e) Liste nome dos medicamentos que foram usados por pessoas (sem repetições)"
   ]
  },
  {
   "cell_type": "code",
   "execution_count": 20,
   "metadata": {},
   "outputs": [
    {
     "data": {
      "application/vnd.jupyter.widget-view+json": {
       "model_id": "6eb91ffc-3f04-4d0e-9fec-1ca6dadf6c12",
       "version_major": 2,
       "version_minor": 0
      },
      "method": "display_data"
     },
     "metadata": {},
     "output_type": "display_data"
    }
   ],
   "source": [
    "SELECT DISTINCT M1.name FROM Medicamento M1"
   ]
  },
  {
   "cell_type": "markdown",
   "metadata": {},
   "source": [
    "f) Liste nome dos medicamentos usados por mais de 2.000 dias (sem repetições)"
   ]
  },
  {
   "cell_type": "code",
   "execution_count": 22,
   "metadata": {},
   "outputs": [
    {
     "ename": "org.h2.jdbc.JdbcSQLException",
     "evalue": " Column \"USE.CODE\" not found; SQL statement",
     "output_type": "error",
     "text": "org.h2.jdbc.JdbcSQLException: Column \"USE.CODE\" not found; SQL statement:\nSELECT M1.name FROM Medicamento M1\nWHERE M1.code = Use.code AND Use.uso > 2000 [42122-197]",
     "traceback": [
      "\u001b[1;31morg.h2.jdbc.JdbcSQLException: Column \"USE.CODE\" not found; SQL statement:\u001b[0;0m",
      "\u001b[1;31mSELECT M1.name FROM Medicamento M1\u001b[0;0m",
      "\u001b[1;31mWHERE M1.code = Use.code AND Use.uso > 2000 [42122-197]\u001b[0;0m"
     ]
    }
   ],
   "source": [
    "SELECT M1.name FROM Medicamento M1, U\n",
    "WHERE M1.code = Use.code AND Use.uso > 2000"
   ]
  },
  {
   "cell_type": "code",
   "execution_count": null,
   "metadata": {},
   "outputs": [],
   "source": []
  }
 ],
 "metadata": {
  "kernelspec": {
   "display_name": "SQL",
   "language": "SQL",
   "name": "sql"
  },
  "language_info": {
   "codemirror_mode": "sql",
   "file_extension": ".sql",
   "mimetype": "",
   "name": "SQL",
   "nbconverter_exporter": "",
   "version": ""
  },
  "toc": {
   "base_numbering": 1,
   "nav_menu": {},
   "number_sections": false,
   "sideBar": false,
   "skip_h1_title": false,
   "title_cell": "Table of Contents",
   "title_sidebar": "Contents",
   "toc_cell": false,
   "toc_position": {},
   "toc_section_display": false,
   "toc_window_display": false
  }
 },
 "nbformat": 4,
 "nbformat_minor": 4
}
