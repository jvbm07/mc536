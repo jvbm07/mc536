{
  "nbformat": 4,
  "nbformat_minor": 5,
  "metadata": {
    "kernelspec": {
      "display_name": "Python 3",
      "language": "python",
      "name": "python3"
    },
    "language_info": {
      "codemirror_mode": {
        "name": "ipython",
        "version": 3
      },
      "file_extension": ".py",
      "mimetype": "text/x-python",
      "name": "python",
      "nbconvert_exporter": "python",
      "pygments_lexer": "ipython3",
      "version": "3.8.10"
    },
    "colab": {
      "name": "lab02.ipynb",
      "provenance": [],
      "collapsed_sections": []
    }
  },
  "cells": [
    {
      "cell_type": "markdown",
      "metadata": {
        "id": "monetary-oakland"
      },
      "source": [
        "# Laboratório 2"
      ],
      "id": "monetary-oakland"
    },
    {
      "cell_type": "markdown",
      "metadata": {
        "id": "bridal-netscape"
      },
      "source": [
        "## Tarefa 1\n",
        "\n",
        "### Carregue o nó de Tenda dos Milagres (da versão em inglês Tent of Miracles) em Python e mostre o conteúdo JSON."
      ],
      "id": "bridal-netscape"
    },
    {
      "cell_type": "code",
      "metadata": {
        "id": "exciting-cement"
      },
      "source": [
        "import io\n",
        "import requests\n",
        "import json"
      ],
      "id": "exciting-cement",
      "execution_count": null,
      "outputs": []
    },
    {
      "cell_type": "code",
      "metadata": {
        "colab": {
          "base_uri": "https://localhost:8080/"
        },
        "id": "-swajkr95Mmm",
        "outputId": "d29385f5-262b-4c4d-d7df-de52d3a5c5e0"
      },
      "source": [
        "url_drum = \"http://dbpedia.org/data/Tent_of_Miracles_(novel).jsod\"\n",
        "data_drum = requests.get(url_drum)\n",
        "json_drum = data_drum.json()\n",
        "print(json.dumps(json_drum, indent=3))"
      ],
      "id": "-swajkr95Mmm",
      "execution_count": null,
      "outputs": [
        {
          "output_type": "stream",
          "name": "stdout",
          "text": [
            "{\n",
            "   \"d\": {\n",
            "      \"results\": [\n",
            "         {\n",
            "            \"__metadata\": {\n",
            "               \"uri\": \"http://dbpedia.org/resource/Tent_of_Miracles_(novel)\"\n",
            "            },\n",
            "            \"http://www.w3.org/2000/01/rdf-schema#label\": \"Tent of Miracles (novel)\",\n",
            "            \"http://dbpedia.org/ontology/wikiPageWikiLink\": {\n",
            "               \"__deferred\": {\n",
            "                  \"uri\": \"http://dbpedia.org/resource/French_New_Wave\"\n",
            "               }\n",
            "            },\n",
            "            \"http://purl.org/dc/terms/subject\": {\n",
            "               \"__deferred\": {\n",
            "                  \"uri\": \"http://dbpedia.org/resource/Category:Modernist_novels\"\n",
            "               }\n",
            "            },\n",
            "            \"http://www.w3.org/1999/02/22-rdf-syntax-ns#type\": {\n",
            "               \"__deferred\": {\n",
            "                  \"uri\": \"http://dbpedia.org/ontology/WrittenWork\"\n",
            "               }\n",
            "            },\n",
            "            \"http://dbpedia.org/property/wikiPageUsesTemplate\": {\n",
            "               \"__deferred\": {\n",
            "                  \"uri\": \"http://dbpedia.org/resource/Template:According_to_whom\"\n",
            "               }\n",
            "            },\n",
            "            \"http://www.w3.org/2000/01/rdf-schema#comment\": \"Tent of Miracles (Portuguese: Tenda dos Milagres) is a Brazilian Modernist novel. It was written by Jorge Amado in 1967 and published the following year. It was later adapted to a 1977 Cinema Novo (Nouvelle Vague) film by director/screenplay writer Nelson Pereira dos Santos.\",\n",
            "            \"http://dbpedia.org/ontology/abstract\": \"La bottega dei miracoli \\u00e8 un romanzo di Jorge Amado pubblicato nel 1960. Come altri romanzi dell&#39;autore (ad esempio Tieta d&#39;Agreste e Teresa Batista) \\u00e8 un testo composito, con un intreccio zigzagante fra analessi e prolessi, con mutamenti di voci narranti ed inserti di materiale eterogeneo.\\u00c8 possibile che l&#39;evento scatenante del racconto (la visita del famoso scienziato) sia stato ispirato dall&#39;esperienza vissuta; in quello stesso 1960, infatti, Jean Paul Sartre e Simone De Beauvoir visitarono il Brasile su invito dello stesso Amado: la visita divenne un evento mediatico, celebrato in numerose manifestazioni istituzionali.\",\n",
            "            \"http://dbpedia.org/property/pubDate\": \"1969\",\n",
            "            \"http://dbpedia.org/property/country\": {\n",
            "               \"__deferred\": {\n",
            "                  \"uri\": \"http://dbpedia.org/resource/Brazil\"\n",
            "               }\n",
            "            },\n",
            "            \"http://www.w3.org/2002/07/owl#sameAs\": {\n",
            "               \"__deferred\": {\n",
            "                  \"uri\": \"http://rdf.freebase.com/ns/m.02xrs4\"\n",
            "               }\n",
            "            },\n",
            "            \"http://dbpedia.org/ontology/wikiPageRevisionID\": \"974212123\",\n",
            "            \"http://dbpedia.org/property/author\": {\n",
            "               \"__deferred\": {\n",
            "                  \"uri\": \"http://dbpedia.org/resource/Jorge_Amado\"\n",
            "               }\n",
            "            },\n",
            "            \"http://dbpedia.org/ontology/author\": {\n",
            "               \"__deferred\": {\n",
            "                  \"uri\": \"http://dbpedia.org/resource/Jorge_Amado\"\n",
            "               }\n",
            "            },\n",
            "            \"http://xmlns.com/foaf/0.1/name\": \"Tenda dos Milagres\",\n",
            "            \"http://dbpedia.org/property/englishPubDate\": \"1971\",\n",
            "            \"http://dbpedia.org/ontology/country\": {\n",
            "               \"__deferred\": {\n",
            "                  \"uri\": \"http://dbpedia.org/resource/Brazil\"\n",
            "               }\n",
            "            },\n",
            "            \"http://dbpedia.org/property/name\": \"Tent of Miracles\",\n",
            "            \"http://purl.org/linguistics/gold/hypernym\": {\n",
            "               \"__deferred\": {\n",
            "                  \"uri\": \"http://dbpedia.org/resource/Novel\"\n",
            "               }\n",
            "            },\n",
            "            \"http://dbpedia.org/property/titleOrig\": \"Tenda dos Milagres\",\n",
            "            \"http://dbpedia.org/ontology/publisher\": {\n",
            "               \"__deferred\": {\n",
            "                  \"uri\": \"http://dbpedia.org/resource/Brazil\"\n",
            "               }\n",
            "            },\n",
            "            \"http://dbpedia.org/ontology/language\": {\n",
            "               \"__deferred\": {\n",
            "                  \"uri\": \"http://dbpedia.org/resource/Portuguese_language\"\n",
            "               }\n",
            "            },\n",
            "            \"http://www.w3.org/ns/prov#wasDerivedFrom\": {\n",
            "               \"__deferred\": {\n",
            "                  \"uri\": \"http://en.wikipedia.org/wiki/Tent_of_Miracles_(novel)?oldid=974212123&ns=0\"\n",
            "               }\n",
            "            },\n",
            "            \"http://dbpedia.org/ontology/wikiPageLength\": \"5253\",\n",
            "            \"http://purl.org/dc/elements/1.1/publisher\": \"Martins, Sao Paulo, Brazil\",\n",
            "            \"http://dbpedia.org/property/language\": {\n",
            "               \"__deferred\": {\n",
            "                  \"uri\": \"http://dbpedia.org/resource/Portuguese_language\"\n",
            "               }\n",
            "            },\n",
            "            \"http://dbpedia.org/ontology/wikiPageID\": \"623351\",\n",
            "            \"http://dbpedia.org/property/publisher\": \"Martins, Sao Paulo, Brazil\",\n",
            "            \"http://dbpedia.org/property/caption\": \"First edition\",\n",
            "            \"http://xmlns.com/foaf/0.1/isPrimaryTopicOf\": {\n",
            "               \"__deferred\": {\n",
            "                  \"uri\": \"http://en.wikipedia.org/wiki/Tent_of_Miracles_(novel)\"\n",
            "               }\n",
            "            }\n",
            "         }\n",
            "      ],\n",
            "      \"__count\": \"1\"\n",
            "   }\n",
            "}\n"
          ]
        }
      ]
    },
    {
      "cell_type": "markdown",
      "metadata": {
        "id": "threatened-shepherd"
      },
      "source": [
        "## Tarefa 2\n",
        "### Recupere via Python e mostre o autor de Tenda dos Milagres?"
      ],
      "id": "threatened-shepherd"
    },
    {
      "cell_type": "code",
      "metadata": {
        "id": "subjective-bachelor",
        "colab": {
          "base_uri": "https://localhost:8080/"
        },
        "outputId": "5cc5179a-d15d-4fcf-bd3f-510f4312310d"
      },
      "source": [
        "autor = json_drum[\"d\"][\"results\"][0][\"http://dbpedia.org/ontology/author\"][\"__deferred\"][\"uri\"]\n",
        "print(\"Autor de Tenda dos Milagres: \" + autor)"
      ],
      "id": "subjective-bachelor",
      "execution_count": null,
      "outputs": [
        {
          "output_type": "stream",
          "name": "stdout",
          "text": [
            "Autor de Tenda dos Milagres: http://dbpedia.org/resource/Jorge_Amado\n"
          ]
        }
      ]
    },
    {
      "cell_type": "markdown",
      "metadata": {
        "id": "specialized-playback"
      },
      "source": [
        "## Tarefa 3\n",
        "### Quais os termos usados para Aspirina (consulta JSON/MeSH em Python)?"
      ],
      "id": "specialized-playback"
    },
    {
      "cell_type": "code",
      "metadata": {
        "id": "about-sacramento",
        "colab": {
          "base_uri": "https://localhost:8080/"
        },
        "outputId": "9a5d4be6-b08c-4c4d-9755-3f55562d6300"
      },
      "source": [
        "url_template = \"https://id.nlm.nih.gov/mesh/lookup/descriptor?label={concept}&match={match}&limit={limit}\"\n",
        "\n",
        "concept = \"Aspirin\"\n",
        "match = \"exact\"\n",
        "limit = \"10\"\n",
        "\n",
        "concept = concept.replace(\" \", \"%20\")\n",
        "\n",
        "url = url_template.replace(\"{concept}\", concept)\\\n",
        "                  .replace(\"{match}\", match)\\\n",
        "                  .replace(\"{limit}\", limit)\n",
        "\n",
        "data = requests.get(url)\n",
        "json_mi = data.json()\n",
        "print(json.dumps(json_mi, indent=3))"
      ],
      "id": "about-sacramento",
      "execution_count": null,
      "outputs": [
        {
          "output_type": "stream",
          "name": "stdout",
          "text": [
            "[\n",
            "   {\n",
            "      \"resource\": \"http://id.nlm.nih.gov/mesh/D001241\",\n",
            "      \"label\": \"Aspirin\"\n",
            "   }\n",
            "]\n"
          ]
        }
      ]
    },
    {
      "cell_type": "code",
      "metadata": {
        "colab": {
          "base_uri": "https://localhost:8080/"
        },
        "id": "NCrXMNAM9GdV",
        "outputId": "f0503215-c76b-4dc1-ca09-0f89b2c11058"
      },
      "source": [
        "uri_mesh = json_mi[0][\"resource\"]\n",
        "print(\"uri do recurso: \" + uri_mesh)\n",
        "bar = str.rindex(uri_mesh, \"/\")\n",
        "print(\"código do recurso: \" + uri_mesh[bar+1:])"
      ],
      "id": "NCrXMNAM9GdV",
      "execution_count": null,
      "outputs": [
        {
          "output_type": "stream",
          "name": "stdout",
          "text": [
            "uri do recurso: http://id.nlm.nih.gov/mesh/D001241\n",
            "código do recurso: D001241\n"
          ]
        }
      ]
    },
    {
      "cell_type": "code",
      "metadata": {
        "colab": {
          "base_uri": "https://localhost:8080/"
        },
        "id": "JqvTqkZa9SX7",
        "outputId": "9c51b59c-d3bb-44c2-92c6-3d9fcb793ba7"
      },
      "source": [
        "url_template = \"https://id.nlm.nih.gov/mesh/lookup/details?descriptor={code}\"\n",
        "\n",
        "code = uri_mesh[bar+1:]\n",
        "\n",
        "url = url_template.replace(\"{code}\", code)\n",
        "\n",
        "data = requests.get(url)\n",
        "json_mid = data.json()\n",
        "print(json.dumps(json_mid, indent=3))\n",
        "\n"
      ],
      "id": "JqvTqkZa9SX7",
      "execution_count": null,
      "outputs": [
        {
          "output_type": "stream",
          "name": "stdout",
          "text": [
            "{\n",
            "   \"descriptor\": \"http://id.nlm.nih.gov/mesh/D001241\",\n",
            "   \"terms\": [\n",
            "      {\n",
            "         \"resource\": \"http://id.nlm.nih.gov/mesh/T003713\",\n",
            "         \"label\": \"Aspirin\",\n",
            "         \"preferred\": true\n",
            "      },\n",
            "      {\n",
            "         \"resource\": \"http://id.nlm.nih.gov/mesh/T003714\",\n",
            "         \"label\": \"2-(Acetyloxy)benzoic Acid\",\n",
            "         \"preferred\": false\n",
            "      },\n",
            "      {\n",
            "         \"resource\": \"http://id.nlm.nih.gov/mesh/T003712\",\n",
            "         \"label\": \"Acetylsalicylic Acid\",\n",
            "         \"preferred\": false\n",
            "      },\n",
            "      {\n",
            "         \"resource\": \"http://id.nlm.nih.gov/mesh/T003721\",\n",
            "         \"label\": \"Acetysal\",\n",
            "         \"preferred\": false\n",
            "      },\n",
            "      {\n",
            "         \"resource\": \"http://id.nlm.nih.gov/mesh/T003722\",\n",
            "         \"label\": \"Acylpyrin\",\n",
            "         \"preferred\": false\n",
            "      },\n",
            "      {\n",
            "         \"resource\": \"http://id.nlm.nih.gov/mesh/T003711\",\n",
            "         \"label\": \"Aloxiprimum\",\n",
            "         \"preferred\": false\n",
            "      },\n",
            "      {\n",
            "         \"resource\": \"http://id.nlm.nih.gov/mesh/T003723\",\n",
            "         \"label\": \"Colfarit\",\n",
            "         \"preferred\": false\n",
            "      },\n",
            "      {\n",
            "         \"resource\": \"http://id.nlm.nih.gov/mesh/T003715\",\n",
            "         \"label\": \"Dispril\",\n",
            "         \"preferred\": false\n",
            "      },\n",
            "      {\n",
            "         \"resource\": \"http://id.nlm.nih.gov/mesh/T003719\",\n",
            "         \"label\": \"Easprin\",\n",
            "         \"preferred\": false\n",
            "      },\n",
            "      {\n",
            "         \"resource\": \"http://id.nlm.nih.gov/mesh/T003724\",\n",
            "         \"label\": \"Ecotrin\",\n",
            "         \"preferred\": false\n",
            "      },\n",
            "      {\n",
            "         \"resource\": \"http://id.nlm.nih.gov/mesh/T003725\",\n",
            "         \"label\": \"Endosprin\",\n",
            "         \"preferred\": false\n",
            "      },\n",
            "      {\n",
            "         \"resource\": \"http://id.nlm.nih.gov/mesh/T003726\",\n",
            "         \"label\": \"Magnecyl\",\n",
            "         \"preferred\": false\n",
            "      },\n",
            "      {\n",
            "         \"resource\": \"http://id.nlm.nih.gov/mesh/T003727\",\n",
            "         \"label\": \"Micristin\",\n",
            "         \"preferred\": false\n",
            "      },\n",
            "      {\n",
            "         \"resource\": \"http://id.nlm.nih.gov/mesh/T003717\",\n",
            "         \"label\": \"Polopirin\",\n",
            "         \"preferred\": false\n",
            "      },\n",
            "      {\n",
            "         \"resource\": \"http://id.nlm.nih.gov/mesh/T003728\",\n",
            "         \"label\": \"Polopiryna\",\n",
            "         \"preferred\": false\n",
            "      },\n",
            "      {\n",
            "         \"resource\": \"http://id.nlm.nih.gov/mesh/T003716\",\n",
            "         \"label\": \"Solprin\",\n",
            "         \"preferred\": false\n",
            "      },\n",
            "      {\n",
            "         \"resource\": \"http://id.nlm.nih.gov/mesh/T003718\",\n",
            "         \"label\": \"Solupsan\",\n",
            "         \"preferred\": false\n",
            "      },\n",
            "      {\n",
            "         \"resource\": \"http://id.nlm.nih.gov/mesh/T003720\",\n",
            "         \"label\": \"Zorprin\",\n",
            "         \"preferred\": false\n",
            "      }\n",
            "   ],\n",
            "   \"qualifiers\": [\n",
            "      {\n",
            "         \"resource\": \"http://id.nlm.nih.gov/mesh/Q000008\",\n",
            "         \"label\": \"administration & dosage\"\n",
            "      },\n",
            "      {\n",
            "         \"resource\": \"http://id.nlm.nih.gov/mesh/Q000009\",\n",
            "         \"label\": \"adverse effects\"\n",
            "      },\n",
            "      {\n",
            "         \"resource\": \"http://id.nlm.nih.gov/mesh/Q000819\",\n",
            "         \"label\": \"agonists\"\n",
            "      },\n",
            "      {\n",
            "         \"resource\": \"http://id.nlm.nih.gov/mesh/Q000031\",\n",
            "         \"label\": \"analogs & derivatives\"\n",
            "      },\n",
            "      {\n",
            "         \"resource\": \"http://id.nlm.nih.gov/mesh/Q000032\",\n",
            "         \"label\": \"analysis\"\n",
            "      },\n",
            "      {\n",
            "         \"resource\": \"http://id.nlm.nih.gov/mesh/Q000037\",\n",
            "         \"label\": \"antagonists & inhibitors\"\n",
            "      },\n",
            "      {\n",
            "         \"resource\": \"http://id.nlm.nih.gov/mesh/Q000097\",\n",
            "         \"label\": \"blood\"\n",
            "      },\n",
            "      {\n",
            "         \"resource\": \"http://id.nlm.nih.gov/mesh/Q000134\",\n",
            "         \"label\": \"cerebrospinal fluid\"\n",
            "      },\n",
            "      {\n",
            "         \"resource\": \"http://id.nlm.nih.gov/mesh/Q000138\",\n",
            "         \"label\": \"chemical synthesis\"\n",
            "      },\n",
            "      {\n",
            "         \"resource\": \"http://id.nlm.nih.gov/mesh/Q000737\",\n",
            "         \"label\": \"chemistry\"\n",
            "      },\n",
            "      {\n",
            "         \"resource\": \"http://id.nlm.nih.gov/mesh/Q000145\",\n",
            "         \"label\": \"classification\"\n",
            "      },\n",
            "      {\n",
            "         \"resource\": \"http://id.nlm.nih.gov/mesh/Q000191\",\n",
            "         \"label\": \"economics\"\n",
            "      },\n",
            "      {\n",
            "         \"resource\": \"http://id.nlm.nih.gov/mesh/Q000266\",\n",
            "         \"label\": \"history\"\n",
            "      },\n",
            "      {\n",
            "         \"resource\": \"http://id.nlm.nih.gov/mesh/Q000276\",\n",
            "         \"label\": \"immunology\"\n",
            "      },\n",
            "      {\n",
            "         \"resource\": \"http://id.nlm.nih.gov/mesh/Q000302\",\n",
            "         \"label\": \"isolation & purification\"\n",
            "      },\n",
            "      {\n",
            "         \"resource\": \"http://id.nlm.nih.gov/mesh/Q000378\",\n",
            "         \"label\": \"metabolism\"\n",
            "      },\n",
            "      {\n",
            "         \"resource\": \"http://id.nlm.nih.gov/mesh/Q000493\",\n",
            "         \"label\": \"pharmacokinetics\"\n",
            "      },\n",
            "      {\n",
            "         \"resource\": \"http://id.nlm.nih.gov/mesh/Q000494\",\n",
            "         \"label\": \"pharmacology\"\n",
            "      },\n",
            "      {\n",
            "         \"resource\": \"http://id.nlm.nih.gov/mesh/Q000506\",\n",
            "         \"label\": \"poisoning\"\n",
            "      },\n",
            "      {\n",
            "         \"resource\": \"http://id.nlm.nih.gov/mesh/Q000528\",\n",
            "         \"label\": \"radiation effects\"\n",
            "      },\n",
            "      {\n",
            "         \"resource\": \"http://id.nlm.nih.gov/mesh/Q000592\",\n",
            "         \"label\": \"standards\"\n",
            "      },\n",
            "      {\n",
            "         \"resource\": \"http://id.nlm.nih.gov/mesh/Q000600\",\n",
            "         \"label\": \"supply & distribution\"\n",
            "      },\n",
            "      {\n",
            "         \"resource\": \"http://id.nlm.nih.gov/mesh/Q000627\",\n",
            "         \"label\": \"therapeutic use\"\n",
            "      },\n",
            "      {\n",
            "         \"resource\": \"http://id.nlm.nih.gov/mesh/Q000633\",\n",
            "         \"label\": \"toxicity\"\n",
            "      },\n",
            "      {\n",
            "         \"resource\": \"http://id.nlm.nih.gov/mesh/Q000652\",\n",
            "         \"label\": \"urine\"\n",
            "      }\n",
            "   ],\n",
            "   \"seealso\": []\n",
            "}\n"
          ]
        }
      ]
    },
    {
      "cell_type": "markdown",
      "metadata": {
        "id": "uniform-worst"
      },
      "source": [
        "## Tarefa 4\n",
        "### Escolha algum lugar no OpenStreetMap e elabore a mesma sequência de três chamadas de serviços para o seu conceito."
      ],
      "id": "uniform-worst"
    },
    {
      "cell_type": "code",
      "metadata": {
        "id": "virgin-volunteer",
        "colab": {
          "base_uri": "https://localhost:8080/"
        },
        "outputId": "bc07e78f-3125-4c08-ec9b-d97f98ee30d5"
      },
      "source": [
        "url_template = \"http://nominatim.openstreetmap.org/search?format={format}&q={query}\"\n",
        "format = \"json\"\n",
        "query = \"Ayasofya-i Kebir Câmi-i Şerifi\"\n",
        "\n",
        "url = url_template.replace(\"{format}\", format)\\\n",
        "                  .replace(\"{query}\", query)\n",
        "\n",
        "data = requests.get(url)\n",
        "mosque_ref = data.json()\n",
        "print(json.dumps(mosque_ref, indent=3))"
      ],
      "id": "virgin-volunteer",
      "execution_count": null,
      "outputs": [
        {
          "output_type": "stream",
          "name": "stdout",
          "text": [
            "[\n",
            "   {\n",
            "      \"place_id\": 115278755,\n",
            "      \"licence\": \"Data \\u00a9 OpenStreetMap contributors, ODbL 1.0. https://osm.org/copyright\",\n",
            "      \"osm_type\": \"way\",\n",
            "      \"osm_id\": 109862851,\n",
            "      \"boundingbox\": [\n",
            "         \"41.0078359\",\n",
            "         \"41.009183\",\n",
            "         \"28.9790782\",\n",
            "         \"28.9809169\"\n",
            "      ],\n",
            "      \"lat\": \"41.008508649999996\",\n",
            "      \"lon\": \"28.980009932000005\",\n",
            "      \"display_name\": \"Ayasofya-i Kebir C\\u00e2mi-i \\u015eerifi, So\\u011fuk\\u00e7e\\u015fme Soka\\u011f\\u0131, Cankurtaran, Cankurtaran Mahallesi, Fatih, \\u0130stanbul, Marmara B\\u00f6lgesi, 34122, T\\u00fcrkiye\",\n",
            "      \"class\": \"amenity\",\n",
            "      \"type\": \"place_of_worship\",\n",
            "      \"importance\": 1.155671903722173,\n",
            "      \"icon\": \"https://nominatim.openstreetmap.org/ui/mapicons//place_of_worship_unknown3.p.20.png\"\n",
            "   }\n",
            "]\n"
          ]
        }
      ]
    },
    {
      "cell_type": "code",
      "metadata": {
        "colab": {
          "base_uri": "https://localhost:8080/"
        },
        "id": "DXGyUEm2ju_6",
        "outputId": "b0602ecc-6684-449a-8c00-48f42913c91f"
      },
      "source": [
        "print(mosque_ref[0][\"osm_id\"])"
      ],
      "id": "DXGyUEm2ju_6",
      "execution_count": null,
      "outputs": [
        {
          "output_type": "stream",
          "name": "stdout",
          "text": [
            "109862851\n"
          ]
        }
      ]
    },
    {
      "cell_type": "code",
      "metadata": {
        "colab": {
          "base_uri": "https://localhost:8080/"
        },
        "id": "--r54peyik7_",
        "outputId": "e46b2247-8b7e-4197-8252-0e75950fd8f3"
      },
      "source": [
        "url_template = \"https://api.openstreetmap.org/api/0.6/{element_type}/{id}.{format}\"\n",
        "\n",
        "element_type = \"way\" # types: node, way, or relation\n",
        "id = str(mosque_ref[0][\"osm_id\"])\n",
        "format = \"json\"\n",
        "\n",
        "url = url_template.replace(\"{element_type}\", element_type)\\\n",
        "                  .replace(\"{id}\", id)\\\n",
        "                  .replace(\"{format}\", format)\n",
        "\n",
        "data = requests.get(url)\n",
        "mosque_way = data.json()\n",
        "print(json.dumps(mosque_way, indent=3))"
      ],
      "id": "--r54peyik7_",
      "execution_count": null,
      "outputs": [
        {
          "output_type": "stream",
          "name": "stdout",
          "text": [
            "{\n",
            "   \"version\": \"0.6\",\n",
            "   \"generator\": \"CGImap 0.8.5 (1580462 spike-08.openstreetmap.org)\",\n",
            "   \"copyright\": \"OpenStreetMap and contributors\",\n",
            "   \"attribution\": \"http://www.openstreetmap.org/copyright\",\n",
            "   \"license\": \"http://opendatacommons.org/licenses/odbl/1-0/\",\n",
            "   \"elements\": [\n",
            "      {\n",
            "         \"type\": \"way\",\n",
            "         \"id\": 109862851,\n",
            "         \"timestamp\": \"2021-05-13T13:11:29Z\",\n",
            "         \"version\": 70,\n",
            "         \"changeset\": 104639386,\n",
            "         \"user\": \"Rienux\",\n",
            "         \"uid\": 11911273,\n",
            "         \"nodes\": [\n",
            "            7758314767,\n",
            "            1256638277,\n",
            "            1256638308,\n",
            "            1256638305,\n",
            "            1256638340,\n",
            "            1256638344,\n",
            "            1256638300,\n",
            "            1256638296,\n",
            "            1256638304,\n",
            "            1256638339,\n",
            "            1256638282,\n",
            "            1256638331,\n",
            "            1256638337,\n",
            "            1256657531,\n",
            "            1256638317,\n",
            "            1256638319,\n",
            "            1256638276,\n",
            "            1256638318,\n",
            "            7242299956,\n",
            "            7242299955,\n",
            "            1256638333,\n",
            "            1256638293,\n",
            "            1256638288,\n",
            "            1256638287,\n",
            "            1256388866,\n",
            "            1256388856,\n",
            "            1256638286,\n",
            "            1256638324,\n",
            "            1256638297,\n",
            "            1256638290,\n",
            "            1256638330,\n",
            "            3424857277,\n",
            "            1256638307,\n",
            "            1256638335,\n",
            "            1256638328,\n",
            "            1256638281,\n",
            "            1256638343,\n",
            "            1256638280,\n",
            "            1256638341,\n",
            "            1256638336,\n",
            "            1256643653,\n",
            "            1256643652,\n",
            "            1256643646,\n",
            "            1256643649,\n",
            "            1256643651,\n",
            "            1256643644,\n",
            "            1256643643,\n",
            "            1762092188,\n",
            "            7242299900,\n",
            "            7242299899,\n",
            "            1256643648,\n",
            "            1256643655,\n",
            "            3424857251,\n",
            "            3424857253,\n",
            "            1256643647,\n",
            "            1256643642,\n",
            "            1255431582,\n",
            "            1255431589,\n",
            "            7599268714,\n",
            "            7241069525,\n",
            "            7241069524,\n",
            "            7241069523,\n",
            "            7241069522,\n",
            "            7241069534,\n",
            "            7241069537,\n",
            "            7241069536,\n",
            "            7241069535,\n",
            "            7599268713,\n",
            "            7241069533,\n",
            "            1255431656,\n",
            "            1255431559,\n",
            "            251397966,\n",
            "            1256638299,\n",
            "            1256638342,\n",
            "            1256638329,\n",
            "            4078371618,\n",
            "            4078371619,\n",
            "            1256638292,\n",
            "            1193429204,\n",
            "            1256638309,\n",
            "            1256638321,\n",
            "            7242913598,\n",
            "            7758314767\n",
            "         ],\n",
            "         \"tags\": {\n",
            "            \"addr:city\": \"\\u0130stanbul\",\n",
            "            \"addr:district\": \"Turkey\",\n",
            "            \"addr:postcode\": \"34122\",\n",
            "            \"addr:street\": \"So\\u011fuk\\u00e7e\\u015fme Soka\\u011f\\u0131\",\n",
            "            \"alt_name:hr\": \"Aja Sofija\",\n",
            "            \"amenity\": \"place_of_worship\",\n",
            "            \"building\": \"yes\",\n",
            "            \"contact:phone\": \"+90 212 522 1750\",\n",
            "            \"email\": \"contact@muze.gen.tr\",\n",
            "            \"heritage\": \"1\",\n",
            "            \"heritage:operator\": \"whc\",\n",
            "            \"heritage:ref\": \"356\",\n",
            "            \"heritage:website\": \"https://whc.unesco.org/en/list/356\",\n",
            "            \"historic:civilization\": \"byzantine\",\n",
            "            \"int_name\": \"The Hagia Sophia Grand Mosque\",\n",
            "            \"name\": \"Ayasofya-i Kebir C\\u00e2mi-i \\u015eerifi\",\n",
            "            \"name:ar\": \"\\u0622\\u064a\\u0627 \\u0635\\u0648\\u0641\\u064a\\u0627\",\n",
            "            \"name:bg\": \"\\u0421\\u0432\\u0435\\u0442\\u0430 \\u0421\\u043e\\u0444\\u0438\\u044f\",\n",
            "            \"name:cs\": \"Hagia Sofia\",\n",
            "            \"name:da\": \"Hagia Sophia\",\n",
            "            \"name:de\": \"Hagia Sophia\",\n",
            "            \"name:el\": \"\\u0391\\u03b3\\u03af\\u03b1 \\u03a3\\u03bf\\u03c6\\u03af\\u03b1\",\n",
            "            \"name:es\": \"Santa Sof\\u00eda\",\n",
            "            \"name:et\": \"Hagia Sophia\",\n",
            "            \"name:fa\": \"\\u0627\\u06cc\\u0627 \\u0635\\u0648\\u0641\\u06cc\\u0647\",\n",
            "            \"name:fr\": \"Sainte-Sophie\",\n",
            "            \"name:he\": \"\\u05d0\\u05d9\\u05d4 \\u05e1\\u05d5\\u05e4\\u05d9\\u05d4\",\n",
            "            \"name:hi\": \"\\u0939\\u093e\\u0917\\u093f\\u092f\\u093e \\u0938\\u094b\\u092b\\u093f\\u092f\\u093e (\\u0906\\u092f\\u093e\\u0938\\u094b\\u092b\\u093c\\u093f\\u092f\\u093e \\u092e\\u0938\\u094d\\u091c\\u093f\\u0926)\",\n",
            "            \"name:hr\": \"Crkva Svete mudrosti\",\n",
            "            \"name:is\": \"\\u00c6gisif\",\n",
            "            \"name:ja\": \"\\u30a2\\u30e4\\u30bd\\u30d5\\u30a3\\u30a2\\u535a\\u7269\\u9928\",\n",
            "            \"name:ko\": \"\\uc544\\uc57c \\uc18c\\ud53c\\uc544\",\n",
            "            \"name:la\": \"Sancta Sophia\",\n",
            "            \"name:ml\": \"\\u0d39\\u0d17\\u0d3f\\u0d2f \\u0d38\\u0d4b\\u0d2b\\u0d3f\\u0d2f\",\n",
            "            \"name:nl\": \"Hagia Sophia\",\n",
            "            \"name:ru\": \"\\u0421\\u043e\\u0431\\u043e\\u0440 \\u0421\\u0432\\u044f\\u0442\\u043e\\u0439 \\u0421\\u043e\\u0444\\u0438\\u0438\",\n",
            "            \"name:sv\": \"Hagia Sofia\",\n",
            "            \"name:tr\": \"Ayasofya-i Kebir C\\u00e2mi-i \\u015eerifi\",\n",
            "            \"name:uk\": \"\\u0421\\u043e\\u0444\\u0456\\u0457\\u0432\\u0441\\u044c\\u043a\\u0438\\u0439 \\u0421\\u043e\\u0431\\u043e\\u0440\",\n",
            "            \"name:zh\": \"1-1\\u5723\\u7d22\\u83f2\\u4e9a\\u5927\\u6559\\u5802\",\n",
            "            \"note:tr\": \"Ayasofya m\\u00fcze olarak hizmet etse de tapuya g\\u00f6re camidir.\",\n",
            "            \"opening_hours\": \"Tu-Su 09:00-17:00\",\n",
            "            \"ref:whc\": \"356\",\n",
            "            \"religion\": \"muslim\",\n",
            "            \"start_date\": \"537\",\n",
            "            \"toilets:wheelchair\": \"no\",\n",
            "            \"tourism\": \"attraction\",\n",
            "            \"website\": \"https://muze.gen.tr/\",\n",
            "            \"whc:criteria\": \"(i)(ii)(iii)(iv)\",\n",
            "            \"whc:inscription_date\": \"1985\",\n",
            "            \"wheelchair\": \"limited\",\n",
            "            \"wikidata\": \"Q12506\",\n",
            "            \"wikipedia\": \"tr:Ayasofya\"\n",
            "         }\n",
            "      }\n",
            "   ]\n",
            "}\n"
          ]
        }
      ]
    },
    {
      "cell_type": "code",
      "metadata": {
        "colab": {
          "base_uri": "https://localhost:8080/"
        },
        "id": "MNUEPQJNoCRR",
        "outputId": "d5f2ef21-db1f-44ad-c756-dbb3a5b2d67b"
      },
      "source": [
        "print(mosque_way[\"elements\"][0][\"tags\"][\"wikipedia\"])"
      ],
      "id": "MNUEPQJNoCRR",
      "execution_count": null,
      "outputs": [
        {
          "output_type": "stream",
          "name": "stdout",
          "text": [
            "tr:Ayasofya\n"
          ]
        }
      ]
    },
    {
      "cell_type": "code",
      "metadata": {
        "colab": {
          "base_uri": "https://localhost:8080/"
        },
        "id": "Irr3jL46oSgk",
        "outputId": "e953f493-1215-42d2-dec4-c7477fa7e14c"
      },
      "source": [
        "url_template = \"http://dbpedia.org/data/{concept}.{format}\"\n",
        "concept = mosque_way[\"elements\"][0][\"tags\"][\"wikipedia\"].replace(\" \", \"_\")\\\n",
        "                                                        .replace(\"tr:\", \"\")\n",
        "format = \"jsod\"\n",
        "\n",
        "url = url_template.replace(\"{concept}\", concept)\\\n",
        "                  .replace(\"{format}\", format)\n",
        "\n",
        "data = requests.get(url)\n",
        "mosque_dbpedia = data.json()\n",
        "print(json.dumps(mosque_dbpedia, indent=3))"
      ],
      "id": "Irr3jL46oSgk",
      "execution_count": null,
      "outputs": [
        {
          "output_type": "stream",
          "name": "stdout",
          "text": [
            "{\n",
            "   \"d\": {\n",
            "      \"results\": [\n",
            "         {\n",
            "            \"__metadata\": {\n",
            "               \"uri\": \"http://dbpedia.org/resource/Ayasofya\"\n",
            "            },\n",
            "            \"http://dbpedia.org/ontology/wikiPageID\": \"1374459\",\n",
            "            \"http://dbpedia.org/ontology/wikiPageRedirects\": {\n",
            "               \"__deferred\": {\n",
            "                  \"uri\": \"http://dbpedia.org/resource/Hagia_Sophia\"\n",
            "               }\n",
            "            },\n",
            "            \"http://dbpedia.org/ontology/wikiPageLength\": \"26\",\n",
            "            \"http://www.w3.org/2000/01/rdf-schema#label\": \"Ayasofya\",\n",
            "            \"http://xmlns.com/foaf/0.1/isPrimaryTopicOf\": {\n",
            "               \"__deferred\": {\n",
            "                  \"uri\": \"http://en.wikipedia.org/wiki/Ayasofya\"\n",
            "               }\n",
            "            },\n",
            "            \"http://dbpedia.org/ontology/wikiPageRevisionID\": \"771522250\",\n",
            "            \"http://dbpedia.org/ontology/wikiPageWikiLink\": {\n",
            "               \"__deferred\": {\n",
            "                  \"uri\": \"http://dbpedia.org/resource/Hagia_Sophia\"\n",
            "               }\n",
            "            },\n",
            "            \"http://www.w3.org/ns/prov#wasDerivedFrom\": {\n",
            "               \"__deferred\": {\n",
            "                  \"uri\": \"http://en.wikipedia.org/wiki/Ayasofya?oldid=771522250&ns=0\"\n",
            "               }\n",
            "            }\n",
            "         }\n",
            "      ],\n",
            "      \"__count\": \"1\"\n",
            "   }\n",
            "}\n"
          ]
        }
      ]
    }
  ]
}