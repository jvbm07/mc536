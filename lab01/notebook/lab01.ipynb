{
  "nbformat": 4,
  "nbformat_minor": 0,
  "metadata": {
    "colab": {
      "name": "lab01.ipynb",
      "provenance": [],
      "collapsed_sections": []
    },
    "kernelspec": {
      "name": "python3",
      "display_name": "Python 3"
    },
    "language_info": {
      "name": "python"
    }
  },
  "cells": [
    {
      "cell_type": "markdown",
      "metadata": {
        "id": "MzNCUfbZ-qpw"
      },
      "source": [
        "# **Lab 1 - API de Acesso a Dados**\n",
        "# **Tarefa 1**\n",
        "Das fontes de dados disponíveis, tente encontrar fontes com formatos diferentes e importá-las via Python. Busque pelo menos dois formatos."
      ]
    },
    {
      "cell_type": "code",
      "metadata": {
        "id": "s3OBzWfIliOp"
      },
      "source": [
        "import requests\n",
        "import json\n",
        "import pandas as pd\n",
        "import io"
      ],
      "execution_count": 12,
      "outputs": []
    },
    {
      "cell_type": "markdown",
      "metadata": {
        "id": "wi0OJWqSwYZL"
      },
      "source": [
        "# Usuário do github\n",
        "Requisição sobre os dados da minha página de usuário do github"
      ]
    },
    {
      "cell_type": "code",
      "metadata": {
        "id": "wHAVWh1qwStn",
        "colab": {
          "base_uri": "https://localhost:8080/"
        },
        "outputId": "d0e583d4-3dc4-4002-9d06-dd4f67812479"
      },
      "source": [
        "url = \"https://api.github.com/users/jvbm07\"\n",
        "data = requests.get(url).content\n",
        "parsed = json.loads(data)\n",
        "print(json.dumps(parsed, indent=4, sort_keys=True))\n"
      ],
      "execution_count": 13,
      "outputs": [
        {
          "output_type": "stream",
          "text": [
            "{\n",
            "    \"avatar_url\": \"https://avatars.githubusercontent.com/u/63734478?v=4\",\n",
            "    \"bio\": null,\n",
            "    \"blog\": \"\",\n",
            "    \"company\": null,\n",
            "    \"created_at\": \"2020-04-15T15:17:13Z\",\n",
            "    \"email\": null,\n",
            "    \"events_url\": \"https://api.github.com/users/jvbm07/events{/privacy}\",\n",
            "    \"followers\": 7,\n",
            "    \"followers_url\": \"https://api.github.com/users/jvbm07/followers\",\n",
            "    \"following\": 7,\n",
            "    \"following_url\": \"https://api.github.com/users/jvbm07/following{/other_user}\",\n",
            "    \"gists_url\": \"https://api.github.com/users/jvbm07/gists{/gist_id}\",\n",
            "    \"gravatar_id\": \"\",\n",
            "    \"hireable\": null,\n",
            "    \"html_url\": \"https://github.com/jvbm07\",\n",
            "    \"id\": 63734478,\n",
            "    \"location\": null,\n",
            "    \"login\": \"jvbm07\",\n",
            "    \"name\": null,\n",
            "    \"node_id\": \"MDQ6VXNlcjYzNzM0NDc4\",\n",
            "    \"organizations_url\": \"https://api.github.com/users/jvbm07/orgs\",\n",
            "    \"public_gists\": 0,\n",
            "    \"public_repos\": 2,\n",
            "    \"received_events_url\": \"https://api.github.com/users/jvbm07/received_events\",\n",
            "    \"repos_url\": \"https://api.github.com/users/jvbm07/repos\",\n",
            "    \"site_admin\": false,\n",
            "    \"starred_url\": \"https://api.github.com/users/jvbm07/starred{/owner}{/repo}\",\n",
            "    \"subscriptions_url\": \"https://api.github.com/users/jvbm07/subscriptions\",\n",
            "    \"twitter_username\": null,\n",
            "    \"type\": \"User\",\n",
            "    \"updated_at\": \"2021-08-27T03:16:47Z\",\n",
            "    \"url\": \"https://api.github.com/users/jvbm07\"\n",
            "}\n"
          ],
          "name": "stdout"
        }
      ]
    },
    {
      "cell_type": "markdown",
      "metadata": {
        "id": "yJzS1J7WwcCa"
      },
      "source": [
        "# Listing of rollerskating centres in Victoria.\n",
        "Uma lista com detalhes sobre os centros de patinação do estado de Victoria, na Australia\n"
      ]
    },
    {
      "cell_type": "code",
      "metadata": {
        "id": "klpHnndDtp1e",
        "colab": {
          "base_uri": "https://localhost:8080/"
        },
        "outputId": "c56fc4ed-5570-4441-a862-63674c467bc2"
      },
      "source": [
        "url = 'http://data.gov.au/storage/f/2013-05-12T200629/tmptBMnzxrollerskating.csv'\n",
        "df = requests.get(url).content\n",
        "dados = pd.read_csv(io.StringIO(df.decode(\"utf-8\")))\n",
        "print(dados)"
      ],
      "execution_count": 14,
      "outputs": [
        {
          "output_type": "stream",
          "text": [
            "                                  Name  ...                                         Region\n",
            "0                Bayswater Roller City  ...                    Eastern Metropolitan Region\n",
            "1                  Caribbean Rollerama  ...                    Eastern Metropolitan Region\n",
            "2               Dandenong Skate Centre  ...                   Southern Metropolitan Region\n",
            "3                Laverton Skate Centre  ...             North and West Metropolitan Region\n",
            "4           Puckhandlers Indoor Sports  ...             North and West Metropolitan Region\n",
            "5   Roller City Bayswater Skating Club  ...                    Eastern Metropolitan Region\n",
            "6       Rollerway Newtown Skate Centre  ...  Barwon South Western Region; Grampians Region\n",
            "7                 Rosebud Skate Centre  ...                   Southern Metropolitan Region\n",
            "8               Skate World Mordialloc  ...                   Southern Metropolitan Region\n",
            "9   Skaterz Rollerblade and Skate Rink  ...             North and West Metropolitan Region\n",
            "10                Skateworld Frankston  ...                   Southern Metropolitan Region\n",
            "11                          Stadium 34  ...                               Gippsland Region\n",
            "12                  Sun City Rollerama  ...                           Loddon-Mallee Region\n",
            "13      Sunshine Roller Skating Centre  ...             North and West Metropolitan Region\n",
            "14            Victorian Skating Centre  ...                    Eastern Metropolitan Region\n",
            "\n",
            "[15 rows x 8 columns]\n"
          ],
          "name": "stdout"
        }
      ]
    },
    {
      "cell_type": "markdown",
      "metadata": {
        "id": "-3zkc_gW_p66"
      },
      "source": [
        "# **Tarefa 2**\n",
        "# **Engenharia reversa**\n",
        "Monte um diagramas que representem modelos dos dados que você terá acesso e como pretende associá-los. Coloque abaixo uma imagem do diagrama."
      ]
    },
    {
      "cell_type": "code",
      "metadata": {
        "id": "vzRuaLqnAPO_"
      },
      "source": [
        ""
      ],
      "execution_count": 14,
      "outputs": []
    }
  ]
}